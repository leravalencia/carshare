{
 "cells": [
  {
   "cell_type": "markdown",
   "metadata": {},
   "source": [
    "# CAPSTONE 1 - CAR SHARING INVESTMENT TOOL DEV-NT"
   ]
  },
  {
   "cell_type": "markdown",
   "metadata": {},
   "source": [
    "### Describe your dataset\n",
    "\n",
    "    Data was received from the biggest car sharing platform in US (Top in Google search) - **Turo.com**. \n",
    "    It was scrapped from a web site and contains: all listed vehicles including parameters and exact location plus performance (how many days it was booked or blocked by an owner). \n",
    "    The data is signigicantly important for potential car owners who would like to share their car through the platform (either personal either invest money and use the cars exclusively for car sharing) \n",
    "    We consider only vehicles that has a status \"Active\" on the website.\n",
    "    \n",
    "### Results (main conclusions)\n",
    "    1. There are **370695** listing at this moment. The distribution spreaded all over the world in **99 countries** [out.46] while the most listings are located in the USA and Canada [out.43] and the most popular brands as **Toyota** and **BMW**[out.14]. The owners has from 1-2 cars an average while the most has 263 car [out.38]. \n",
    "    2. The 'Price per day' in both countries for main distribution of listings is below $200 per day for car and US pricing is slightly lower than in CA.\n",
    "    3. Top 10 most expensive vehicles/day are here [out.4] with the most expensive car *Ferrari\t488 Pista*\t$4,990/day\n",
    "    4. Top 10 owners with the most amount of  active listings is in the chart [Out.14]. The car that made the most money is the Mercedes-Benz CLS-Class [out.47]. Last month the car brougth to his owner  **10,978 USD**\n",
    "   \n",
    " \n",
    "### Propose for further research\n",
    "\n",
    "    Based on the historical data of occupancy rates learn how much can be the **potential income from a certain type of car based on a zip code using predictive models\n",
    "   See the full report below: "
   ]
  },
  {
   "cell_type": "code",
   "execution_count": 10,
   "metadata": {},
   "outputs": [
    {
     "name": "stderr",
     "output_type": "stream",
     "text": [
      "/Users/valeriya/anaconda3/lib/python3.6/site-packages/IPython/core/interactiveshell.py:2785: DtypeWarning: Columns (17,25,36,40,70) have mixed types. Specify dtype option on import or set low_memory=False.\n",
      "  interactivity=interactivity, compiler=compiler, result=result)\n"
     ]
    }
   ],
   "source": [
    "import numpy as np\n",
    "import pandas as pd\n",
    "import matplotlib.pyplot as plt\n",
    "%matplotlib inline\n",
    "# import seaborn\n",
    "import seaborn as sns\n",
    "df = pd.read_csv ('Turo crawled 09.2019.csv')\n",
    "dfa = df[df['Status'] ==\"Active\"]"
   ]
  },
  {
   "cell_type": "code",
   "execution_count": 3,
   "metadata": {},
   "outputs": [
    {
     "data": {
      "text/html": [
       "<div>\n",
       "<style scoped>\n",
       "    .dataframe tbody tr th:only-of-type {\n",
       "        vertical-align: middle;\n",
       "    }\n",
       "\n",
       "    .dataframe tbody tr th {\n",
       "        vertical-align: top;\n",
       "    }\n",
       "\n",
       "    .dataframe thead th {\n",
       "        text-align: right;\n",
       "    }\n",
       "</style>\n",
       "<table border=\"1\" class=\"dataframe\">\n",
       "  <thead>\n",
       "    <tr style=\"text-align: right;\">\n",
       "      <th></th>\n",
       "      <th>Car ID</th>\n",
       "      <th>Year</th>\n",
       "      <th>Number of seats</th>\n",
       "      <th>Number of doors</th>\n",
       "      <th>GPS</th>\n",
       "      <th>Convertible</th>\n",
       "      <th>Booking Instantly</th>\n",
       "      <th>Latitude</th>\n",
       "      <th>Longitude</th>\n",
       "      <th>Owner ID</th>\n",
       "      <th>...</th>\n",
       "      <th>Another Occupancy May</th>\n",
       "      <th>Another Occupancy Jun</th>\n",
       "      <th>Another Occupancy Jul</th>\n",
       "      <th>Another Occupancy Aug</th>\n",
       "      <th>Another Occupancy Sep</th>\n",
       "      <th>Another Occupancy Oct</th>\n",
       "      <th>Another Occupancy Nov</th>\n",
       "      <th>Another Occupancy Dec</th>\n",
       "      <th>Unnamed: 71</th>\n",
       "      <th>Unnamed: 72</th>\n",
       "    </tr>\n",
       "  </thead>\n",
       "  <tbody>\n",
       "    <tr>\n",
       "      <th>count</th>\n",
       "      <td>370695.000000</td>\n",
       "      <td>370695.000000</td>\n",
       "      <td>243318.000000</td>\n",
       "      <td>260859.000000</td>\n",
       "      <td>146191.0</td>\n",
       "      <td>25530.0</td>\n",
       "      <td>370695.000000</td>\n",
       "      <td>370695.000000</td>\n",
       "      <td>370695.000000</td>\n",
       "      <td>3.706950e+05</td>\n",
       "      <td>...</td>\n",
       "      <td>1450.000000</td>\n",
       "      <td>1521.000000</td>\n",
       "      <td>1534.000000</td>\n",
       "      <td>1417.000000</td>\n",
       "      <td>1258.000000</td>\n",
       "      <td>20457.000000</td>\n",
       "      <td>11469.000000</td>\n",
       "      <td>10220.000000</td>\n",
       "      <td>0.0</td>\n",
       "      <td>0.0</td>\n",
       "    </tr>\n",
       "    <tr>\n",
       "      <th>mean</th>\n",
       "      <td>378659.098013</td>\n",
       "      <td>2012.869181</td>\n",
       "      <td>4.959033</td>\n",
       "      <td>3.709717</td>\n",
       "      <td>1.0</td>\n",
       "      <td>1.0</td>\n",
       "      <td>0.066926</td>\n",
       "      <td>36.469000</td>\n",
       "      <td>-94.338558</td>\n",
       "      <td>4.105173e+06</td>\n",
       "      <td>...</td>\n",
       "      <td>13.689655</td>\n",
       "      <td>12.838264</td>\n",
       "      <td>14.139505</td>\n",
       "      <td>14.266055</td>\n",
       "      <td>13.723370</td>\n",
       "      <td>14.753923</td>\n",
       "      <td>17.729968</td>\n",
       "      <td>18.690020</td>\n",
       "      <td>NaN</td>\n",
       "      <td>NaN</td>\n",
       "    </tr>\n",
       "    <tr>\n",
       "      <th>std</th>\n",
       "      <td>199364.969780</td>\n",
       "      <td>5.023112</td>\n",
       "      <td>1.087559</td>\n",
       "      <td>0.801218</td>\n",
       "      <td>0.0</td>\n",
       "      <td>0.0</td>\n",
       "      <td>0.249894</td>\n",
       "      <td>7.569675</td>\n",
       "      <td>31.425465</td>\n",
       "      <td>3.468030e+06</td>\n",
       "      <td>...</td>\n",
       "      <td>11.382379</td>\n",
       "      <td>10.756216</td>\n",
       "      <td>11.276115</td>\n",
       "      <td>11.379828</td>\n",
       "      <td>10.998797</td>\n",
       "      <td>11.409939</td>\n",
       "      <td>11.675537</td>\n",
       "      <td>11.937347</td>\n",
       "      <td>NaN</td>\n",
       "      <td>NaN</td>\n",
       "    </tr>\n",
       "    <tr>\n",
       "      <th>min</th>\n",
       "      <td>1.000000</td>\n",
       "      <td>1900.000000</td>\n",
       "      <td>0.000000</td>\n",
       "      <td>0.000000</td>\n",
       "      <td>1.0</td>\n",
       "      <td>1.0</td>\n",
       "      <td>0.000000</td>\n",
       "      <td>-45.020831</td>\n",
       "      <td>-176.632486</td>\n",
       "      <td>3.000000e+00</td>\n",
       "      <td>...</td>\n",
       "      <td>1.000000</td>\n",
       "      <td>1.000000</td>\n",
       "      <td>1.000000</td>\n",
       "      <td>1.000000</td>\n",
       "      <td>1.000000</td>\n",
       "      <td>1.000000</td>\n",
       "      <td>1.000000</td>\n",
       "      <td>1.000000</td>\n",
       "      <td>NaN</td>\n",
       "      <td>NaN</td>\n",
       "    </tr>\n",
       "    <tr>\n",
       "      <th>25%</th>\n",
       "      <td>202746.000000</td>\n",
       "      <td>2011.000000</td>\n",
       "      <td>5.000000</td>\n",
       "      <td>4.000000</td>\n",
       "      <td>1.0</td>\n",
       "      <td>1.0</td>\n",
       "      <td>0.000000</td>\n",
       "      <td>33.130932</td>\n",
       "      <td>-118.246479</td>\n",
       "      <td>9.620915e+05</td>\n",
       "      <td>...</td>\n",
       "      <td>4.000000</td>\n",
       "      <td>4.000000</td>\n",
       "      <td>4.000000</td>\n",
       "      <td>4.000000</td>\n",
       "      <td>4.000000</td>\n",
       "      <td>5.000000</td>\n",
       "      <td>5.000000</td>\n",
       "      <td>7.000000</td>\n",
       "      <td>NaN</td>\n",
       "      <td>NaN</td>\n",
       "    </tr>\n",
       "    <tr>\n",
       "      <th>50%</th>\n",
       "      <td>408834.000000</td>\n",
       "      <td>2014.000000</td>\n",
       "      <td>5.000000</td>\n",
       "      <td>4.000000</td>\n",
       "      <td>1.0</td>\n",
       "      <td>1.0</td>\n",
       "      <td>0.000000</td>\n",
       "      <td>36.064309</td>\n",
       "      <td>-93.877819</td>\n",
       "      <td>3.137975e+06</td>\n",
       "      <td>...</td>\n",
       "      <td>9.000000</td>\n",
       "      <td>9.000000</td>\n",
       "      <td>10.000000</td>\n",
       "      <td>11.000000</td>\n",
       "      <td>9.000000</td>\n",
       "      <td>10.000000</td>\n",
       "      <td>18.000000</td>\n",
       "      <td>19.000000</td>\n",
       "      <td>NaN</td>\n",
       "      <td>NaN</td>\n",
       "    </tr>\n",
       "    <tr>\n",
       "      <th>75%</th>\n",
       "      <td>552149.500000</td>\n",
       "      <td>2016.000000</td>\n",
       "      <td>5.000000</td>\n",
       "      <td>4.000000</td>\n",
       "      <td>1.0</td>\n",
       "      <td>1.0</td>\n",
       "      <td>0.000000</td>\n",
       "      <td>40.904095</td>\n",
       "      <td>-80.101279</td>\n",
       "      <td>6.966188e+06</td>\n",
       "      <td>...</td>\n",
       "      <td>26.000000</td>\n",
       "      <td>22.000000</td>\n",
       "      <td>27.000000</td>\n",
       "      <td>29.000000</td>\n",
       "      <td>28.000000</td>\n",
       "      <td>31.000000</td>\n",
       "      <td>30.000000</td>\n",
       "      <td>31.000000</td>\n",
       "      <td>NaN</td>\n",
       "      <td>NaN</td>\n",
       "    </tr>\n",
       "    <tr>\n",
       "      <th>max</th>\n",
       "      <td>683219.000000</td>\n",
       "      <td>2020.000000</td>\n",
       "      <td>15.000000</td>\n",
       "      <td>6.000000</td>\n",
       "      <td>1.0</td>\n",
       "      <td>1.0</td>\n",
       "      <td>1.000000</td>\n",
       "      <td>71.296937</td>\n",
       "      <td>177.468619</td>\n",
       "      <td>1.146174e+07</td>\n",
       "      <td>...</td>\n",
       "      <td>31.000000</td>\n",
       "      <td>30.000000</td>\n",
       "      <td>31.000000</td>\n",
       "      <td>31.000000</td>\n",
       "      <td>30.000000</td>\n",
       "      <td>31.000000</td>\n",
       "      <td>30.000000</td>\n",
       "      <td>31.000000</td>\n",
       "      <td>NaN</td>\n",
       "      <td>NaN</td>\n",
       "    </tr>\n",
       "  </tbody>\n",
       "</table>\n",
       "<p>8 rows × 50 columns</p>\n",
       "</div>"
      ],
      "text/plain": [
       "              Car ID           Year  Number of seats  Number of doors  \\\n",
       "count  370695.000000  370695.000000    243318.000000    260859.000000   \n",
       "mean   378659.098013    2012.869181         4.959033         3.709717   \n",
       "std    199364.969780       5.023112         1.087559         0.801218   \n",
       "min         1.000000    1900.000000         0.000000         0.000000   \n",
       "25%    202746.000000    2011.000000         5.000000         4.000000   \n",
       "50%    408834.000000    2014.000000         5.000000         4.000000   \n",
       "75%    552149.500000    2016.000000         5.000000         4.000000   \n",
       "max    683219.000000    2020.000000        15.000000         6.000000   \n",
       "\n",
       "            GPS  Convertible  Booking Instantly        Latitude  \\\n",
       "count  146191.0      25530.0       370695.000000  370695.000000   \n",
       "mean        1.0          1.0            0.066926      36.469000   \n",
       "std         0.0          0.0            0.249894       7.569675   \n",
       "min         1.0          1.0            0.000000     -45.020831   \n",
       "25%         1.0          1.0            0.000000      33.130932   \n",
       "50%         1.0          1.0            0.000000      36.064309   \n",
       "75%         1.0          1.0            0.000000      40.904095   \n",
       "max         1.0          1.0            1.000000      71.296937   \n",
       "\n",
       "           Longitude      Owner ID     ...       Another Occupancy May  \\\n",
       "count  370695.000000  3.706950e+05     ...                 1450.000000   \n",
       "mean      -94.338558  4.105173e+06     ...                   13.689655   \n",
       "std        31.425465  3.468030e+06     ...                   11.382379   \n",
       "min      -176.632486  3.000000e+00     ...                    1.000000   \n",
       "25%      -118.246479  9.620915e+05     ...                    4.000000   \n",
       "50%       -93.877819  3.137975e+06     ...                    9.000000   \n",
       "75%       -80.101279  6.966188e+06     ...                   26.000000   \n",
       "max       177.468619  1.146174e+07     ...                   31.000000   \n",
       "\n",
       "       Another Occupancy Jun  Another Occupancy Jul  Another Occupancy Aug  \\\n",
       "count            1521.000000            1534.000000            1417.000000   \n",
       "mean               12.838264              14.139505              14.266055   \n",
       "std                10.756216              11.276115              11.379828   \n",
       "min                 1.000000               1.000000               1.000000   \n",
       "25%                 4.000000               4.000000               4.000000   \n",
       "50%                 9.000000              10.000000              11.000000   \n",
       "75%                22.000000              27.000000              29.000000   \n",
       "max                30.000000              31.000000              31.000000   \n",
       "\n",
       "       Another Occupancy Sep  Another Occupancy Oct  Another Occupancy Nov  \\\n",
       "count            1258.000000           20457.000000           11469.000000   \n",
       "mean               13.723370              14.753923              17.729968   \n",
       "std                10.998797              11.409939              11.675537   \n",
       "min                 1.000000               1.000000               1.000000   \n",
       "25%                 4.000000               5.000000               5.000000   \n",
       "50%                 9.000000              10.000000              18.000000   \n",
       "75%                28.000000              31.000000              30.000000   \n",
       "max                30.000000              31.000000              30.000000   \n",
       "\n",
       "       Another Occupancy Dec  Unnamed: 71  Unnamed: 72  \n",
       "count           10220.000000          0.0          0.0  \n",
       "mean               18.690020          NaN          NaN  \n",
       "std                11.937347          NaN          NaN  \n",
       "min                 1.000000          NaN          NaN  \n",
       "25%                 7.000000          NaN          NaN  \n",
       "50%                19.000000          NaN          NaN  \n",
       "75%                31.000000          NaN          NaN  \n",
       "max                31.000000          NaN          NaN  \n",
       "\n",
       "[8 rows x 50 columns]"
      ]
     },
     "execution_count": 3,
     "metadata": {},
     "output_type": "execute_result"
    }
   ],
   "source": [
    "df.describe()"
   ]
  },
  {
   "cell_type": "markdown",
   "metadata": {},
   "source": [
    "Our data set  has 370695 listings. Let's see how the listing located all over the world:"
   ]
  },
  {
   "cell_type": "code",
   "execution_count": 46,
   "metadata": {},
   "outputs": [
    {
     "data": {
      "image/png": "[encoded data removed]",
      "text/plain": [
       "<Figure size 432x288 with 1 Axes>"
      ]
     },
     "metadata": {},
     "output_type": "display_data"
    }
   ],
   "source": [
    "#mapping our location distribution\n",
    "import matplotlib.pyplot as plt\n",
    "plt.scatter(x=df['Longitude'], y=df['Latitude'])\n",
    "plt.show()"
   ]
  },
  {
   "cell_type": "markdown",
   "metadata": {},
   "source": [
    "Lisitng are spreaded all over the world with the most saturated area in South America"
   ]
  },
  {
   "cell_type": "code",
   "execution_count": 8,
   "metadata": {},
   "outputs": [
    {
     "data": {
      "text/plain": [
       "65.0"
      ]
     },
     "execution_count": 8,
     "metadata": {},
     "output_type": "execute_result"
    },
    {
     "data": {
      "image/png": "[encoded data removed]",
      "text/plain": [
       "<Figure size 432x288 with 1 Axes>"
      ]
     },
     "metadata": {},
     "output_type": "display_data"
    }
   ],
   "source": [
    "#Here is the distribution of the prices through the listings. \n",
    "#We limited it to the range 10-800$ to avoid noise among data that aren't significant \n",
    "plt.hist(dfa['Price per day'], bins=50, range=(10,800))\n",
    "dfv = dfa [['Make', 'Model','Price per day', 'Country']]\n",
    "plt.axvline(np.median(dfa['Price per day']), color='b', linestyle='solid', linewidth=2)\n",
    "np.median(dfa['Price per day'])"
   ]
  },
  {
   "cell_type": "markdown",
   "metadata": {},
   "source": [
    "The median price per day is 65$ day while the most listings has price range fro, 30$-220$"
   ]
  },
  {
   "cell_type": "code",
   "execution_count": 43,
   "metadata": {},
   "outputs": [
    {
     "data": {
      "text/plain": [
       "<matplotlib.axes._subplots.AxesSubplot at 0x1a2ab57d68>"
      ]
     },
     "execution_count": 43,
     "metadata": {},
     "output_type": "execute_result"
    },
    {
     "data": {
      "image/png": "[encoded data removed]",
      "text/plain": [
       "<Figure size 432x288 with 1 Axes>"
      ]
     },
     "metadata": {},
     "output_type": "display_data"
    }
   ],
   "source": [
    "df1 = dfrange[dfrange['Country'].isin(['US','CA'])]\n",
    "sns.boxplot(y='Price per day', x='Country', \n",
    "                 data=df1)"
   ]
  },
  {
   "cell_type": "code",
   "execution_count": null,
   "metadata": {},
   "outputs": [],
   "source": [
    "The Price per day distribution within two countries is "
   ]
  },
  {
   "cell_type": "code",
   "execution_count": 41,
   "metadata": {},
   "outputs": [
    {
     "data": {
      "text/html": [
       "<div>\n",
       "<style scoped>\n",
       "    .dataframe tbody tr th:only-of-type {\n",
       "        vertical-align: middle;\n",
       "    }\n",
       "\n",
       "    .dataframe tbody tr th {\n",
       "        vertical-align: top;\n",
       "    }\n",
       "\n",
       "    .dataframe thead th {\n",
       "        text-align: right;\n",
       "    }\n",
       "</style>\n",
       "<table border=\"1\" class=\"dataframe\">\n",
       "  <thead>\n",
       "    <tr style=\"text-align: right;\">\n",
       "      <th></th>\n",
       "      <th>Make</th>\n",
       "      <th>Model</th>\n",
       "      <th>Price per day</th>\n",
       "      <th>Country</th>\n",
       "    </tr>\n",
       "  </thead>\n",
       "  <tbody>\n",
       "    <tr>\n",
       "      <th>256322</th>\n",
       "      <td>Ferrari</td>\n",
       "      <td>488 GTB</td>\n",
       "      <td>3600.0</td>\n",
       "      <td>AT</td>\n",
       "    </tr>\n",
       "    <tr>\n",
       "      <th>198216</th>\n",
       "      <td>Lamborghini</td>\n",
       "      <td>Huracán Performante</td>\n",
       "      <td>3500.0</td>\n",
       "      <td>ES</td>\n",
       "    </tr>\n",
       "    <tr>\n",
       "      <th>200644</th>\n",
       "      <td>Lamborghini</td>\n",
       "      <td>Huracán Performante</td>\n",
       "      <td>3500.0</td>\n",
       "      <td>ES</td>\n",
       "    </tr>\n",
       "    <tr>\n",
       "      <th>200989</th>\n",
       "      <td>Lamborghini</td>\n",
       "      <td>Huracán Performante</td>\n",
       "      <td>3500.0</td>\n",
       "      <td>ES</td>\n",
       "    </tr>\n",
       "    <tr>\n",
       "      <th>201113</th>\n",
       "      <td>Lamborghini</td>\n",
       "      <td>Huracán Performante</td>\n",
       "      <td>3500.0</td>\n",
       "      <td>ES</td>\n",
       "    </tr>\n",
       "    <tr>\n",
       "      <th>322459</th>\n",
       "      <td>LAMBORGHINI</td>\n",
       "      <td>Urus</td>\n",
       "      <td>3400.0</td>\n",
       "      <td>IT</td>\n",
       "    </tr>\n",
       "    <tr>\n",
       "      <th>307846</th>\n",
       "      <td>Rolls-Royce</td>\n",
       "      <td>Ghost</td>\n",
       "      <td>3280.0</td>\n",
       "      <td>US</td>\n",
       "    </tr>\n",
       "    <tr>\n",
       "      <th>205169</th>\n",
       "      <td>ROLLS ROYCE</td>\n",
       "      <td>Dawn</td>\n",
       "      <td>3100.0</td>\n",
       "      <td>FR</td>\n",
       "    </tr>\n",
       "    <tr>\n",
       "      <th>222993</th>\n",
       "      <td>ROLLS ROYCE</td>\n",
       "      <td>Dawn</td>\n",
       "      <td>3100.0</td>\n",
       "      <td>FR</td>\n",
       "    </tr>\n",
       "    <tr>\n",
       "      <th>258418</th>\n",
       "      <td>ROLLS ROYCE</td>\n",
       "      <td>Dawn</td>\n",
       "      <td>3100.0</td>\n",
       "      <td>FR</td>\n",
       "    </tr>\n",
       "  </tbody>\n",
       "</table>\n",
       "</div>"
      ],
      "text/plain": [
       "               Make                Model  Price per day Country\n",
       "256322      Ferrari              488 GTB         3600.0      AT\n",
       "198216  Lamborghini  Huracán Performante         3500.0      ES\n",
       "200644  Lamborghini  Huracán Performante         3500.0      ES\n",
       "200989  Lamborghini  Huracán Performante         3500.0      ES\n",
       "201113  Lamborghini  Huracán Performante         3500.0      ES\n",
       "322459  LAMBORGHINI                 Urus         3400.0      IT\n",
       "307846  Rolls-Royce                Ghost         3280.0      US\n",
       "205169  ROLLS ROYCE                 Dawn         3100.0      FR\n",
       "222993  ROLLS ROYCE                 Dawn         3100.0      FR\n",
       "258418  ROLLS ROYCE                 Dawn         3100.0      FR"
      ]
     },
     "execution_count": 41,
     "metadata": {},
     "output_type": "execute_result"
    }
   ],
   "source": [
    "#Let's see how the most expensive cars are looking\n",
    "dfrange = dfv[(dfv['Price per day']>10) & (dfv['Price per day']<800)]\n",
    "dfv.nlargest(10, ['Price per day'])"
   ]
  },
  {
   "cell_type": "code",
   "execution_count": 17,
   "metadata": {},
   "outputs": [
    {
     "data": {
      "text/plain": [
       "99"
      ]
     },
     "execution_count": 17,
     "metadata": {},
     "output_type": "execute_result"
    }
   ],
   "source": [
    "# how many countries registered\n",
    "cn = df.groupby('Country')\n",
    "cn\n",
    "len (cn)"
   ]
  },
  {
   "cell_type": "code",
   "execution_count": 19,
   "metadata": {},
   "outputs": [
    {
     "data": {
      "text/plain": [
       "<pandas.core.groupby.groupby.DataFrameGroupBy object at 0x1a12ab17b8>"
      ]
     },
     "execution_count": 19,
     "metadata": {},
     "output_type": "execute_result"
    }
   ],
   "source": [
    "df.groupby(df['Country'], sort = True)"
   ]
  },
  {
   "cell_type": "code",
   "execution_count": 43,
   "metadata": {},
   "outputs": [
    {
     "data": {
      "text/plain": [
       "Country\n",
       "US    327384\n",
       "CA     25770\n",
       "GB      7186\n",
       "DE      4049\n",
       "FR       714\n",
       "ES       609\n",
       "MX       602\n",
       "IT       334\n",
       "AU       312\n",
       "GR       284\n",
       "dtype: int64"
      ]
     },
     "execution_count": 43,
     "metadata": {},
     "output_type": "execute_result"
    }
   ],
   "source": [
    "#TOP 10 countrues by quantity of car refistered\n",
    "df.groupby('Country').size().sort_values(ascending=False).head(10)"
   ]
  },
  {
   "cell_type": "code",
   "execution_count": 38,
   "metadata": {},
   "outputs": [
    {
     "data": {
      "text/plain": [
       "count    55961.000000\n",
       "mean         1.476278\n",
       "std          2.778970\n",
       "min          1.000000\n",
       "25%          1.000000\n",
       "50%          1.000000\n",
       "75%          1.000000\n",
       "max        263.000000\n",
       "dtype: float64"
      ]
     },
     "execution_count": 38,
     "metadata": {},
     "output_type": "execute_result"
    }
   ],
   "source": [
    "topown = dfa.groupby(dfa[dfa['Status'] ==\"Active\"]['Owner ID']).size().sort_values(ascending=False)\n",
    "topown.describe()"
   ]
  },
  {
   "cell_type": "markdown",
   "metadata": {},
   "source": [
    "The maximum car amount is 263 per registered owner while most of the owners has from 1-2 cars listed on the platform"
   ]
  },
  {
   "cell_type": "code",
   "execution_count": 50,
   "metadata": {},
   "outputs": [
    {
     "data": {
      "text/plain": [
       "Make\n",
       "Toyota           8530\n",
       "BMW              6862\n",
       "Ford             6015\n",
       "Mercedes-Benz    5757\n",
       "Chevrolet        5114\n",
       "Nissan           4832\n",
       "Honda            4337\n",
       "Jeep             3460\n",
       "Tesla            3091\n",
       "Hyundai          3059\n",
       "dtype: int64"
      ]
     },
     "execution_count": 50,
     "metadata": {},
     "output_type": "execute_result"
    }
   ],
   "source": [
    "#TOP 10 car brands  within US countrues by quantity of car refistered\n",
    "df.groupby(df[df['Status'] ==\"Active\"] ['Make']).size().sort_values(ascending=False).head(10)"
   ]
  },
  {
   "cell_type": "code",
   "execution_count": 47,
   "metadata": {},
   "outputs": [
    {
     "name": "stderr",
     "output_type": "stream",
     "text": [
      "/Users/valeriya/anaconda3/lib/python3.6/site-packages/ipykernel_launcher.py:2: SettingWithCopyWarning: \n",
      "A value is trying to be set on a copy of a slice from a DataFrame.\n",
      "Try using .loc[row_indexer,col_indexer] = value instead\n",
      "\n",
      "See the caveats in the documentation: http://pandas.pydata.org/pandas-docs/stable/indexing.html#indexing-view-versus-copy\n",
      "  \n"
     ]
    },
    {
     "data": {
      "text/html": [
       "<div>\n",
       "<style scoped>\n",
       "    .dataframe tbody tr th:only-of-type {\n",
       "        vertical-align: middle;\n",
       "    }\n",
       "\n",
       "    .dataframe tbody tr th {\n",
       "        vertical-align: top;\n",
       "    }\n",
       "\n",
       "    .dataframe thead th {\n",
       "        text-align: right;\n",
       "    }\n",
       "</style>\n",
       "<table border=\"1\" class=\"dataframe\">\n",
       "  <thead>\n",
       "    <tr style=\"text-align: right;\">\n",
       "      <th></th>\n",
       "      <th>Make</th>\n",
       "      <th>Model</th>\n",
       "      <th>Price per day</th>\n",
       "      <th>Country</th>\n",
       "      <th>Earning</th>\n",
       "    </tr>\n",
       "  </thead>\n",
       "  <tbody>\n",
       "    <tr>\n",
       "      <th>63826</th>\n",
       "      <td>Mercedes-Benz</td>\n",
       "      <td>CLS-Class</td>\n",
       "      <td>499.0</td>\n",
       "      <td>US</td>\n",
       "      <td>10978.0</td>\n",
       "    </tr>\n",
       "    <tr>\n",
       "      <th>52013</th>\n",
       "      <td>BMW</td>\n",
       "      <td>6 Series</td>\n",
       "      <td>399.0</td>\n",
       "      <td>US</td>\n",
       "      <td>7581.0</td>\n",
       "    </tr>\n",
       "    <tr>\n",
       "      <th>51344</th>\n",
       "      <td>Porsche</td>\n",
       "      <td>Panamera</td>\n",
       "      <td>199.0</td>\n",
       "      <td>US</td>\n",
       "      <td>5970.0</td>\n",
       "    </tr>\n",
       "    <tr>\n",
       "      <th>65773</th>\n",
       "      <td>Toyota</td>\n",
       "      <td>4Runner</td>\n",
       "      <td>249.0</td>\n",
       "      <td>US</td>\n",
       "      <td>4980.0</td>\n",
       "    </tr>\n",
       "    <tr>\n",
       "      <th>65106</th>\n",
       "      <td>Tesla</td>\n",
       "      <td>Model S</td>\n",
       "      <td>280.0</td>\n",
       "      <td>US</td>\n",
       "      <td>4760.0</td>\n",
       "    </tr>\n",
       "    <tr>\n",
       "      <th>56032</th>\n",
       "      <td>BMW</td>\n",
       "      <td>7 Series</td>\n",
       "      <td>750.0</td>\n",
       "      <td>US</td>\n",
       "      <td>4500.0</td>\n",
       "    </tr>\n",
       "    <tr>\n",
       "      <th>51765</th>\n",
       "      <td>Mercedes-Benz</td>\n",
       "      <td>C-Class</td>\n",
       "      <td>159.0</td>\n",
       "      <td>US</td>\n",
       "      <td>3975.0</td>\n",
       "    </tr>\n",
       "    <tr>\n",
       "      <th>60314</th>\n",
       "      <td>GMC</td>\n",
       "      <td>Yukon XL</td>\n",
       "      <td>220.0</td>\n",
       "      <td>US</td>\n",
       "      <td>3960.0</td>\n",
       "    </tr>\n",
       "    <tr>\n",
       "      <th>66431</th>\n",
       "      <td>Mercedes-Benz</td>\n",
       "      <td>C-Class</td>\n",
       "      <td>159.0</td>\n",
       "      <td>US</td>\n",
       "      <td>3816.0</td>\n",
       "    </tr>\n",
       "    <tr>\n",
       "      <th>56896</th>\n",
       "      <td>Volkswagen</td>\n",
       "      <td>Touareg</td>\n",
       "      <td>189.0</td>\n",
       "      <td>US</td>\n",
       "      <td>3780.0</td>\n",
       "    </tr>\n",
       "  </tbody>\n",
       "</table>\n",
       "</div>"
      ],
      "text/plain": [
       "                Make      Model  Price per day Country  Earning\n",
       "63826  Mercedes-Benz  CLS-Class          499.0      US  10978.0\n",
       "52013            BMW   6 Series          399.0      US   7581.0\n",
       "51344        Porsche   Panamera          199.0      US   5970.0\n",
       "65773         Toyota    4Runner          249.0      US   4980.0\n",
       "65106          Tesla    Model S          280.0      US   4760.0\n",
       "56032            BMW   7 Series          750.0      US   4500.0\n",
       "51765  Mercedes-Benz    C-Class          159.0      US   3975.0\n",
       "60314            GMC   Yukon XL          220.0      US   3960.0\n",
       "66431  Mercedes-Benz    C-Class          159.0      US   3816.0\n",
       "56896     Volkswagen    Touareg          189.0      US   3780.0"
      ]
     },
     "execution_count": 47,
     "metadata": {},
     "output_type": "execute_result"
    }
   ],
   "source": [
    "#TOP 10 cars by earnings/month in September 2019\n",
    "dfa['Earning'] = dfa['Occupancy Sep'] * dfa['Price per day']\n",
    "dfv = dfa [['Make', 'Model','Price per day', 'Country', 'Earning']]\n",
    "dfv.nlargest(10, ['Earning'])\n"
   ]
  },
  {
   "cell_type": "code",
   "execution_count": null,
   "metadata": {},
   "outputs": [],
   "source": []
  }
 ],
 "metadata": {
  "kernelspec": {
   "display_name": "Python 3",
   "language": "python",
   "name": "python3"
  },
  "language_info": {
   "codemirror_mode": {
    "name": "ipython",
    "version": 3
   },
   "file_extension": ".py",
   "mimetype": "text/x-python",
   "name": "python",
   "nbconvert_exporter": "python",
   "pygments_lexer": "ipython3",
   "version": "3.6.5"
  }
 },
 "nbformat": 4,
 "nbformat_minor": 2
}
